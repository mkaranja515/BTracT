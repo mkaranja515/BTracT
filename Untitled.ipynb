{
 "cells": [
  {
   "cell_type": "code",
   "execution_count": 1,
   "metadata": {},
   "outputs": [],
   "source": [
    "import pandas as pd"
   ]
  },
  {
   "cell_type": "code",
   "execution_count": 2,
   "metadata": {},
   "outputs": [],
   "source": [
    "dt = pd.read_csv(\"C:/Users/MKaranja/Desktop/Streamlit/btractv3/data/crosses/ArushaBananaData.csv\")"
   ]
  },
  {
   "cell_type": "code",
   "execution_count": 3,
   "metadata": {},
   "outputs": [],
   "source": [
    "dt.Number_of_Embryo_Rescued = pd.to_numeric(dt.Number_of_Embryo_Rescued) "
   ]
  },
  {
   "cell_type": "code",
   "execution_count": 26,
   "metadata": {},
   "outputs": [],
   "source": [
    "dt = dt[dt['Number_of_Embryo_Rescued'] > 0]"
   ]
  },
  {
   "cell_type": "code",
   "execution_count": 27,
   "metadata": {},
   "outputs": [],
   "source": [
    "dt = dt[['Location','Crossnumber','Embryo_Rescue_Date','Number_of_Embryo_Rescued']]\n",
    "dt['id'] = dt.Crossnumber"
   ]
  },
  {
   "cell_type": "code",
   "execution_count": 29,
   "metadata": {},
   "outputs": [],
   "source": [
    "dt2 = pd.DataFrame(dt.id.str.split('_',1).tolist(),\n",
    "                                 columns = ['Prefix','Suffix'])"
   ]
  },
  {
   "cell_type": "code",
   "execution_count": 65,
   "metadata": {},
   "outputs": [
    {
     "data": {
      "text/plain": [
       "0       NM201804_(136468C2/136357)_1\n",
       "1                     NM201806_450_1\n",
       "2                     NM201806_450_2\n",
       "3                     NM201806_450_3\n",
       "4                     NM201806_450_4\n",
       "                   ...              \n",
       "213     NM201902_(136350C2/161541)_5\n",
       "214     NM201902_(152842C1/161541)_9\n",
       "215    NM201902_(152842C1/161541)_12\n",
       "216    NM201902_(152842C1/161541)_23\n",
       "217     NM201904_(152644C1/161582)_7\n",
       "Name: id, Length: 218, dtype: object"
      ]
     },
     "execution_count": 65,
     "metadata": {},
     "output_type": "execute_result"
    }
   ],
   "source": [
    "df = pd.concat([dt.reset_index(drop=True), dt2], axis=1)\n",
    "df.pop('id')"
   ]
  },
  {
   "cell_type": "code",
   "execution_count": 66,
   "metadata": {},
   "outputs": [
    {
     "data": {
      "text/plain": [
       "0      (\n",
       "1      4\n",
       "2      4\n",
       "3      4\n",
       "4      4\n",
       "      ..\n",
       "213    (\n",
       "214    (\n",
       "215    (\n",
       "216    (\n",
       "217    (\n",
       "Name: Suffix, Length: 218, dtype: object"
      ]
     },
     "execution_count": 66,
     "metadata": {},
     "output_type": "execute_result"
    }
   ],
   "source": [
    "df['Suffix'].str.get(0)"
   ]
  },
  {
   "cell_type": "code",
   "execution_count": 56,
   "metadata": {},
   "outputs": [
    {
     "data": {
      "text/plain": [
       "0      (136468C2/136357)\n",
       "1                    450\n",
       "2                    450\n",
       "3                    450\n",
       "4                    450\n",
       "             ...        \n",
       "213    (136350C2/161541)\n",
       "214    (152842C1/161541)\n",
       "215    (152842C1/161541)\n",
       "216    (152842C1/161541)\n",
       "217    (152644C1/161582)\n",
       "Name: Suffix, Length: 218, dtype: object"
      ]
     },
     "execution_count": 56,
     "metadata": {},
     "output_type": "execute_result"
    }
   ],
   "source": [
    "df['Suffix']"
   ]
  },
  {
   "cell_type": "code",
   "execution_count": 34,
   "metadata": {},
   "outputs": [],
   "source": [
    "def label_data(name):\n",
    "    if name == 'Crosses':\n",
    "        dt = crosses()\n",
    "        dt = dt[dt['Number_of_Embryo_Rescued'] > 0]\n",
    "        dt = dt[['Location','Crossnumber','Embryo_Rescue_Date','Number_of_Embryo_Rescued']]\n",
    "        dt['id'] = dt.Crossnumber\n",
    "        dt2 = pd.DataFrame(dt.id.str.split('_',1).tolist(),\n",
    "                                 columns = ['Prefix','Suffix'])\n",
    "        df = pd.concat([dt.reset_index(drop=True), dt2], axis=1)\n",
    "        df.pop('id')\n",
    "    else:\n",
    "        dt = plantlets()\n",
    "        if name == 'Germinating Embryo':            \n",
    "            dt = dt[dt['Copies'] > 0]\n",
    "            dt = dt[['Location','PlantletID','Subculture_Date','Copies']]\n",
    "            dt['id'] = dt.PlantletID\n",
    "            dt2 = pd.DataFrame(dt.id.str.split('_',2).tolist(),\n",
    "                                     columns = ['Prefix','Suffix','EmbryoNo'])\n",
    "            df = pd.concat([dt.reset_index(drop=True), dt2], axis=1)\n",
    "            df.pop('id')\n",
    "        elif name == 'Subcultures':\n",
    "            dt = dt[dt['Copies'] > 0]\n",
    "            dt = dt[['Location','PlantletID','Subculture_Date','Copies']]\n",
    "            dt['id'] = dt.PlantletID\n",
    "            dt2 = pd.DataFrame(dt.id.str.split('_',2).tolist(),\n",
    "                                     columns = ['Prefix','Suffix','EmbryoNo'])\n",
    "            df = pd.concat([dt.reset_index(drop=True), dt2], axis=1)\n",
    "            df.pop('id')            \n",
    "        elif name == 'Rooting':\n",
    "            dt = dt[dt['Copies'] > 0]\n",
    "            dt = dt[['Location','PlantletID','Subculture_Date','Copies']]\n",
    "            dt['id'] = dt.PlantletID\n",
    "            dt2 = pd.DataFrame(dt.id.str.split('_',2).tolist(),\n",
    "                                     columns = ['Prefix','Suffix','EmbryoNo'])\n",
    "            df = pd.concat([dt.reset_index(drop=True), dt2], axis=1)\n",
    "            df.pop('id')            \n",
    "        elif name == 'Weaning1/ Sending Out':\n",
    "            dt = dt[dt['Copies'] > 0]\n",
    "            dt = dt[['Location','PlantletID','Subculture_Date','Copies']]\n",
    "            dt['id'] = dt.PlantletID\n",
    "            dt2 = pd.DataFrame(dt.id.str.split('_',2).tolist(),\n",
    "                                     columns = ['Prefix','Suffix','EmbryoNo'])\n",
    "            df = pd.concat([dt.reset_index(drop=True), dt2], axis=1)\n",
    "            df.pop('id')            \n",
    "        elif name == 'Weaning2':\n",
    "            dt = dt[dt['Copies'] > 0]\n",
    "            dt = dt[['Location','PlantletID','Subculture_Date','Copies']]\n",
    "            dt['id'] = dt.PlantletID\n",
    "            dt2 = pd.DataFrame(dt.id.str.split('_',2).tolist(),\n",
    "                                     columns = ['Prefix','Suffix','EmbryoNo'])\n",
    "            df = pd.concat([dt.reset_index(drop=True), dt2], axis=1)\n",
    "            df.pop('id')\n",
    "        elif name == 'Screenhouse':\n",
    "            dt = dt[dt['Copies'] > 0]\n",
    "            dt = dt[['Location','PlantletID','Subculture_Date','Copies']]\n",
    "            dt['id'] = dt.PlantletID\n",
    "            dt2 = pd.DataFrame(dt.id.str.split('_',2).tolist(),\n",
    "                                     columns = ['Prefix','Suffix','EmbryoNo'])\n",
    "            df = pd.concat([dt.reset_index(drop=True), dt2], axis=1)\n",
    "            df.pop('id')\n",
    "        elif name == 'Hardening':\n",
    "            dt = dt[dt['Copies'] > 0]\n",
    "            dt = dt[['Location','PlantletID','Subculture_Date','Copies']]\n",
    "            dt['id'] = dt.PlantletID\n",
    "            dt2 = pd.DataFrame(dt.id.str.split('_',2).tolist(),\n",
    "                                     columns = ['Prefix','Suffix','EmbryoNo'])\n",
    "            df = pd.concat([dt.reset_index(drop=True), dt2], axis=1)\n",
    "            df.pop('id')\n",
    "        elif name == 'Openfield':\n",
    "            dt = dt[dt['Number_in_Openfield'] > 0]\n",
    "            dt = dt[['Location','PlantletID','Openfield_Transfer_Date','Number_in_Openfield']]\n",
    "            dt['id'] = dt.PlantletID\n",
    "            dt2 = pd.DataFrame(dt.id.str.split('_',2).tolist(),\n",
    "                                     columns = ['Prefix','Suffix','EmbryoNo'])\n",
    "            df = pd.concat([dt.reset_index(drop=True), dt2], axis=1)\n",
    "            df.pop('id')\n",
    "    \n",
    "    \n"
   ]
  },
  {
   "cell_type": "code",
   "execution_count": 36,
   "metadata": {},
   "outputs": [],
   "source": [
    "dz = pd.read_csv(\"C:/Users/MKaranja/Desktop/Streamlit/btractv3/data/plantlets/ArushaPlantlets.csv\")"
   ]
  },
  {
   "cell_type": "code",
   "execution_count": 67,
   "metadata": {},
   "outputs": [
    {
     "data": {
      "text/plain": [
       "Index(['Location', 'Crossnumber', 'PlantletID', 'Mother', 'Father',\n",
       "       'Germination_Date', 'Germination_Submission_Date', 'Copies',\n",
       "       'Subculture_Date', 'Number_Rooting', 'Date_of_Rooting',\n",
       "       'Number_Sent_Out', 'Sending_Out_Date', 'Weaning_2_Plantlets',\n",
       "       'Weaning_2_Date', 'Number_in_Screenhouse', 'Screenhouse_Transfer_Date',\n",
       "       'Number_in_Hardening', 'Hardening_Date', 'Number_in_Openfield',\n",
       "       'Openfield_Transfer_Date'],\n",
       "      dtype='object')"
      ]
     },
     "execution_count": 67,
     "metadata": {},
     "output_type": "execute_result"
    }
   ],
   "source": [
    "dz.columns"
   ]
  },
  {
   "cell_type": "code",
   "execution_count": 42,
   "metadata": {},
   "outputs": [
    {
     "data": {
      "text/plain": [
       "0       NM201804_(136468C2/136357)_1\n",
       "1                     NM201806_450_1\n",
       "2                     NM201806_450_2\n",
       "3                     NM201806_450_3\n",
       "4                     NM201806_450_4\n",
       "                   ...              \n",
       "213     NM201902_(136350C2/161541)_5\n",
       "214     NM201902_(152842C1/161541)_9\n",
       "215    NM201902_(152842C1/161541)_12\n",
       "216    NM201902_(152842C1/161541)_23\n",
       "217     NM201904_(152644C1/161582)_7\n",
       "Name: id, Length: 218, dtype: object"
      ]
     },
     "execution_count": 42,
     "metadata": {},
     "output_type": "execute_result"
    }
   ],
   "source": [
    "dt = plantlets()\n",
    "dt = dt[dt['Copies'] > 0]\n",
    "dt = dt[['Location','PlantletID','Subculture_Date','Copies']]\n",
    "dt['id'] = dt.PlantletID\n",
    "dt2 = pd.DataFrame(dt.id.str.split('_',2).tolist(),\n",
    "                             columns = ['Prefix','Suffix','EmbryoNo'])\n",
    "df = pd.concat([dt.reset_index(drop=True), dt2], axis=1)\n",
    "df.pop('id')"
   ]
  },
  {
   "cell_type": "code",
   "execution_count": 43,
   "metadata": {},
   "outputs": [
    {
     "data": {
      "text/html": [
       "<div>\n",
       "<style scoped>\n",
       "    .dataframe tbody tr th:only-of-type {\n",
       "        vertical-align: middle;\n",
       "    }\n",
       "\n",
       "    .dataframe tbody tr th {\n",
       "        vertical-align: top;\n",
       "    }\n",
       "\n",
       "    .dataframe thead th {\n",
       "        text-align: right;\n",
       "    }\n",
       "</style>\n",
       "<table border=\"1\" class=\"dataframe\">\n",
       "  <thead>\n",
       "    <tr style=\"text-align: right;\">\n",
       "      <th></th>\n",
       "      <th>Location</th>\n",
       "      <th>PlantletID</th>\n",
       "      <th>Subculture_Date</th>\n",
       "      <th>Copies</th>\n",
       "      <th>Prefix</th>\n",
       "      <th>Suffix</th>\n",
       "      <th>EmbryoNo</th>\n",
       "    </tr>\n",
       "  </thead>\n",
       "  <tbody>\n",
       "    <tr>\n",
       "      <th>0</th>\n",
       "      <td>Arusha</td>\n",
       "      <td>NM201804_(136468C2/136357)_1</td>\n",
       "      <td>2019-06-03 00:00:00+00:00</td>\n",
       "      <td>3.0</td>\n",
       "      <td>NM201804</td>\n",
       "      <td>(136468C2/136357)</td>\n",
       "      <td>1</td>\n",
       "    </tr>\n",
       "    <tr>\n",
       "      <th>1</th>\n",
       "      <td>Arusha</td>\n",
       "      <td>NM201806_450_1</td>\n",
       "      <td>2019-06-03 00:00:00+00:00</td>\n",
       "      <td>7.0</td>\n",
       "      <td>NM201806</td>\n",
       "      <td>450</td>\n",
       "      <td>1</td>\n",
       "    </tr>\n",
       "    <tr>\n",
       "      <th>2</th>\n",
       "      <td>Arusha</td>\n",
       "      <td>NM201806_450_2</td>\n",
       "      <td>2019-06-03 00:00:00+00:00</td>\n",
       "      <td>2.0</td>\n",
       "      <td>NM201806</td>\n",
       "      <td>450</td>\n",
       "      <td>2</td>\n",
       "    </tr>\n",
       "    <tr>\n",
       "      <th>3</th>\n",
       "      <td>Arusha</td>\n",
       "      <td>NM201806_450_3</td>\n",
       "      <td>2019-06-03 00:00:00+00:00</td>\n",
       "      <td>5.0</td>\n",
       "      <td>NM201806</td>\n",
       "      <td>450</td>\n",
       "      <td>3</td>\n",
       "    </tr>\n",
       "    <tr>\n",
       "      <th>4</th>\n",
       "      <td>Arusha</td>\n",
       "      <td>NM201806_450_4</td>\n",
       "      <td>2019-06-03 00:00:00+00:00</td>\n",
       "      <td>2.0</td>\n",
       "      <td>NM201806</td>\n",
       "      <td>450</td>\n",
       "      <td>4</td>\n",
       "    </tr>\n",
       "  </tbody>\n",
       "</table>\n",
       "</div>"
      ],
      "text/plain": [
       "  Location                    PlantletID            Subculture_Date  Copies  \\\n",
       "0   Arusha  NM201804_(136468C2/136357)_1  2019-06-03 00:00:00+00:00     3.0   \n",
       "1   Arusha                NM201806_450_1  2019-06-03 00:00:00+00:00     7.0   \n",
       "2   Arusha                NM201806_450_2  2019-06-03 00:00:00+00:00     2.0   \n",
       "3   Arusha                NM201806_450_3  2019-06-03 00:00:00+00:00     5.0   \n",
       "4   Arusha                NM201806_450_4  2019-06-03 00:00:00+00:00     2.0   \n",
       "\n",
       "     Prefix             Suffix EmbryoNo  \n",
       "0  NM201804  (136468C2/136357)        1  \n",
       "1  NM201806                450        1  \n",
       "2  NM201806                450        2  \n",
       "3  NM201806                450        3  \n",
       "4  NM201806                450        4  "
      ]
     },
     "execution_count": 43,
     "metadata": {},
     "output_type": "execute_result"
    }
   ],
   "source": [
    "df.head()"
   ]
  },
  {
   "cell_type": "code",
   "execution_count": null,
   "metadata": {},
   "outputs": [],
   "source": []
  },
  {
   "cell_type": "code",
   "execution_count": null,
   "metadata": {},
   "outputs": [],
   "source": [
    "if(nrow(plantlets)>0){\n",
    "  if( 'Germination Date' %in% names(plantlets)){\n",
    "    embryo_labels = plantlets %>%\n",
    "      dplyr::select(Location, PlantletID, `Germination Date`, `Germination Submission Date`) %>%\n",
    "      dplyr::filter(lubridate::year(`Germination Date`)>= 2018)\n",
    "    labels = data.frame(stringr::str_split_fixed(embryo_labels$PlantletID,\"_\",3))\n",
    "    colnames(labels) = c('Prefix','Suffix', \"EmbryoNo\")\n",
    "    labels$Suffix = gsub(\"[)]\",\"\",(gsub(\"[(]\",\"\", labels$Suffix)))\n",
    "    embryo_labels = cbind(embryo_labels,labels)\n",
    "  }\n",
    "}"
   ]
  },
  {
   "cell_type": "code",
   "execution_count": null,
   "metadata": {},
   "outputs": [],
   "source": [
    "if(nrow(plantlets)>0){\n",
    "  plantlet_labels = plantlets  %>%\n",
    "    dplyr::select(`Location`,`PlantletID`,`Subculture Date`,Copies) %>%\n",
    "    dplyr::filter(!is.na(`Subculture Date`) & lubridate::year(`Subculture Date`)>=2018)\n",
    "  labels = data.frame(stringr::str_split_fixed(plantlet_labels$PlantletID,\"_\",3))\n",
    "  colnames(labels) = c('Prefix','Suffix',\"EmbryoNo\")\n",
    "  labels$Suffix = gsub(\"[)]\",\"\",(gsub(\"[(]\",\"\", labels$Suffix)))\n",
    "  plantlet_labels = cbind(plantlet_labels,labels)\n",
    "}\n"
   ]
  },
  {
   "cell_type": "code",
   "execution_count": null,
   "metadata": {},
   "outputs": [],
   "source": []
  },
  {
   "cell_type": "code",
   "execution_count": null,
   "metadata": {},
   "outputs": [],
   "source": []
  },
  {
   "cell_type": "code",
   "execution_count": null,
   "metadata": {},
   "outputs": [],
   "source": []
  },
  {
   "cell_type": "code",
   "execution_count": null,
   "metadata": {},
   "outputs": [],
   "source": []
  },
  {
   "cell_type": "code",
   "execution_count": null,
   "metadata": {},
   "outputs": [],
   "source": [
    "banana_labels = bananadata %>%\n",
    " dplyr::filter(`Number of Embryo Rescued` > 0 & lubridate::year(`Embryo Rescue Date`)>=2018)\n",
    "\n",
    "labels = data.frame(stringr::str_split_fixed(banana_labels$Crossnumber,\"_\",2))\n",
    "colnames(labels) = c('Prefix','Suffix')\n",
    "labels$Suffix = gsub(\"[)]\",\"\",(gsub(\"[(]\",\"\", labels$Suffix)))\n",
    "banana_labels = cbind(banana_labels, labels)\n",
    "banana_labels = banana_labels %>%\n",
    "  dplyr::select(Location,Crossnumber,Prefix,Suffix,`Embryo Rescue Date`,`Number of Embryo Rescued`)"
   ]
  },
  {
   "cell_type": "code",
   "execution_count": null,
   "metadata": {},
   "outputs": [],
   "source": []
  }
 ],
 "metadata": {
  "kernelspec": {
   "display_name": "Python 3",
   "language": "python",
   "name": "python3"
  },
  "language_info": {
   "codemirror_mode": {
    "name": "ipython",
    "version": 3
   },
   "file_extension": ".py",
   "mimetype": "text/x-python",
   "name": "python",
   "nbconvert_exporter": "python",
   "pygments_lexer": "ipython3",
   "version": "3.9.1"
  }
 },
 "nbformat": 4,
 "nbformat_minor": 4
}
